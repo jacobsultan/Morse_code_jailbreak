{
 "cells": [
  {
   "cell_type": "code",
   "execution_count": 12,
   "metadata": {},
   "outputs": [],
   "source": [
    "import pandas as pd\n",
    "import importlib\n",
    "import sys"
   ]
  },
  {
   "cell_type": "code",
   "execution_count": 13,
   "metadata": {},
   "outputs": [],
   "source": [
    "eng_to_morse = { 'A':'.-', 'B':'-...','C':'-.-.', 'D':'-..', 'E':'.','F':'..-.', 'G':'--.', 'H':'....',\n",
    "'I':'..', 'J':'.---', 'K':'-.-','L':'.-..', 'M':'--', 'N':'-.','O':'---', 'P':'.--.', 'Q':'--.-',\n",
    "'R':'.-.', 'S':'...', 'T':'-','U':'..-', 'V':'...-', 'W':'.--','X':'-..-', 'Y':'-.--', 'Z':'--..',\n",
    "'1':'.----', '2':'..---', '3':'...--','4':'....-', '5':'.....', '6':'-....','7':'--...', '8':'---..', '9':'----.',\n",
    "'0':'-----',',':'--..--','.':'.-.-.-','?':'..--..','/':'-..-.','-':'-....-','(':'-.--.', ')':'-.--.-',\n",
    "\"'\": '.----.','!': '---.',':': '---...', ';': '-.-.-.','=': '-...-', '+': '.-.-.','-': '-....-','_': '..--.-','\"': '.-..-.',\n",
    "'$': '...-..-','@': '.--.-.','^': '..-..-','%': '.--..-.',' ': '/','--··--':','\n",
    "}\n",
    "\n",
    "morse_to_eng = {value:key for key,value in eng_to_morse.items()}"
   ]
  },
  {
   "cell_type": "code",
   "execution_count": 14,
   "metadata": {},
   "outputs": [],
   "source": [
    "# encryption to morsecode \n",
    "def encrypt(message):\n",
    "    message = message.upper()\n",
    "    cipher = ''\n",
    "    for letter in message:\n",
    "        if letter != ' ':\n",
    "            cipher += eng_to_morse[letter] + ' '\n",
    "        else:\n",
    "            cipher += ' / '\n",
    "    return cipher.strip()\n",
    "\n"
   ]
  },
  {
   "cell_type": "code",
   "execution_count": 15,
   "metadata": {},
   "outputs": [],
   "source": [
    "# decryption from morse code to english\n",
    "def decrypt(message):\n",
    "    # check if its a filled out entry\n",
    "    if pd.notnull(message):\n",
    "        # some messages aren't responded in morse so first we check that \n",
    "        if not is_morse(message):\n",
    "            return message\n",
    "        message += ' '\n",
    "        decipher = ''\n",
    "        citext = ''\n",
    "        for letter in message:\n",
    "            if (letter != ' '):\n",
    "                i = 0\n",
    "                citext += letter\n",
    "            else:\n",
    "                i += 1\n",
    "                if i == 2 :\n",
    "                    decipher += ' '\n",
    "                else:\n",
    "                    if str(citext) in morse_to_eng:\n",
    "                        decipher += morse_to_eng[str(citext)]\n",
    "                    else:\n",
    "                        decipher += '??'\n",
    "                    citext = ''\n",
    "        return decipher.lower()\n",
    "    else:\n",
    "        return None\n",
    "\n",
    "# to see if a response is actually morse as it should be\n",
    "def is_morse(message):\n",
    "    if pd.notnull(message):\n",
    "        for let in message:\n",
    "            if let.isalpha():\n",
    "                return False\n",
    "        return True\n",
    "    else:\n",
    "        return None"
   ]
  },
  {
   "cell_type": "code",
   "execution_count": null,
   "metadata": {},
   "outputs": [],
   "source": []
  }
 ],
 "metadata": {
  "kernelspec": {
   "display_name": "morsevenv",
   "language": "python",
   "name": "python3"
  },
  "language_info": {
   "codemirror_mode": {
    "name": "ipython",
    "version": 3
   },
   "file_extension": ".py",
   "mimetype": "text/x-python",
   "name": "python",
   "nbconvert_exporter": "python",
   "pygments_lexer": "ipython3",
   "version": "3.9.6"
  }
 },
 "nbformat": 4,
 "nbformat_minor": 2
}
